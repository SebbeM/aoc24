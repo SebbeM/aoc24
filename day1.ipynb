{
 "cells": [
  {
   "cell_type": "code",
   "execution_count": 15,
   "id": "140c6097-f1ca-41f2-a605-8d05e2280246",
   "metadata": {},
   "outputs": [],
   "source": [
    "left = []\n",
    "right = []\n",
    "with open(\"input\") as lists:\n",
    "    while pair := lists.readline():\n",
    "        numbers = pair.split()\n",
    "        left.append(int(numbers[0]))\n",
    "        right.append(int(numbers[1]))"
   ]
  },
  {
   "cell_type": "code",
   "execution_count": 16,
   "id": "77c542a7-126a-4c42-a06b-b486ce3c3e68",
   "metadata": {},
   "outputs": [
    {
     "name": "stdout",
     "output_type": "stream",
     "text": [
      "2367773\n"
     ]
    }
   ],
   "source": [
    "left.sort()\n",
    "right.sort()\n",
    "pairs = zip(left, right)\n",
    "sum = 0\n",
    "for pair in pairs:\n",
    "    sum += abs(pair[0] - pair[1])\n",
    "print(sum)"
   ]
  },
  {
   "cell_type": "code",
   "execution_count": 17,
   "id": "45236c23-c11a-4d6d-a2d0-42afb601bfd4",
   "metadata": {},
   "outputs": [
    {
     "name": "stdout",
     "output_type": "stream",
     "text": [
      "21271939\n"
     ]
    }
   ],
   "source": [
    "score = 0\n",
    "for number in left:\n",
    "    for occurrence in right:\n",
    "        if number == occurrence:\n",
    "            score += number\n",
    "print(score)"
   ]
  }
 ],
 "metadata": {
  "kernelspec": {
   "display_name": "Python 3 (ipykernel)",
   "language": "python",
   "name": "python3"
  },
  "language_info": {
   "codemirror_mode": {
    "name": "ipython",
    "version": 3
   },
   "file_extension": ".py",
   "mimetype": "text/x-python",
   "name": "python",
   "nbconvert_exporter": "python",
   "pygments_lexer": "ipython3",
   "version": "3.12.7"
  }
 },
 "nbformat": 4,
 "nbformat_minor": 5
}
